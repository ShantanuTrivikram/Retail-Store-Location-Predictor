{
 "cells": [
  {
   "cell_type": "code",
   "execution_count": null,
   "metadata": {
    "colab": {
     "base_uri": "https://localhost:8080/"
    },
    "id": "tv3lFZwqCBGZ",
    "outputId": "bbefd217-9cd0-4ba4-c192-5f9f59dcc51b"
   },
   "outputs": [],
   "source": [
    "#Imports\n",
    "\n",
    "!pip install census\n",
    "!pip install censusdata\n",
    "!pip install censusgeocode\n",
    "!pip install geopy\n",
    "!pip install geopandas\n",
    "!pip install plotly_express\n",
    "\n",
    "import numpy as np\n",
    "import pandas as pd\n",
    "import matplotlib.pyplot as plt\n",
    "import seaborn as sns\n",
    "from sklearn.linear_model import LinearRegression\n",
    "import statsmodels.api as sm\n",
    "import statsmodels.formula.api as smf\n",
    "from geopy.geocoders import Nominatim\n",
    "from geopy import distance\n",
    "from geopy.distance import geodesic\n",
    "#import census\n",
    "import pandas as pd\n",
    "import geopandas as gpd\n",
    "import censusdata\n",
    "import censusgeocode as cg\n",
    "import geopy\n",
    "from geopy.geocoders import Nominatim\n",
    "import numpy as np\n",
    "import plotly_express as px\n",
    "import matplotlib.pyplot as plt\n",
    "import requests"
   ]
  },
  {
   "cell_type": "code",
   "execution_count": null,
   "metadata": {
    "colab": {
     "base_uri": "https://localhost:8080/"
    },
    "id": "p9g1j2HvCFBN",
    "outputId": "80bb1dad-c838-4a10-f3cb-52e6cb2d49c0"
   },
   "outputs": [],
   "source": [
    "x = censusdata.geographies(censusdata.censusgeo([('state', '12'),('county','*'),('tract', '*')]), 'acs5', 2020)\n",
    "x"
   ]
  },
  {
   "cell_type": "code",
   "execution_count": null,
   "metadata": {
    "colab": {
     "base_uri": "https://localhost:8080/"
    },
    "id": "lOze9HlqCHgh",
    "outputId": "b92cdbb9-9b9c-44f7-ab19-cd305f837f7c"
   },
   "outputs": [],
   "source": [
    "allTracts = pd.DataFrame()\n",
    "i = 0\n",
    "for key in x:\n",
    "    s = str(x[key])[-6:]\n",
    "    c = str(x[key])[-17:-14]\n",
    "    allTracts.loc[i,'TractNumber'] = s\n",
    "    allTracts.loc[i,'CountyNumber'] = c\n",
    "    i += 1\n",
    "allTracts = allTracts.drop_duplicates()\n",
    "allTracts['CountyNumber'].unique()"
   ]
  },
  {
   "cell_type": "code",
   "execution_count": null,
   "metadata": {
    "id": "jzBgKvjtJNd8"
   },
   "outputs": [],
   "source": [
    "testDF = pd.DataFrame()\n",
    "i = 0"
   ]
  },
  {
   "cell_type": "code",
   "execution_count": null,
   "metadata": {
    "id": "9pmPVR6IcTNM"
   },
   "outputs": [],
   "source": [
    "for x,y in allTracts.iterrows():\n",
    "    tract = y['TractNumber']\n",
    "    county = y['CountyNumber']\n",
    "    AcsData = censusdata.download('acs5', 2020, censusdata.censusgeo([('state', '01'),  ('county', county),('tract', tract)]), \n",
    "                                        [\n",
    "                                            'B01001_038E', #Estimate!!Total:!!Female:!!40 to 44 years\n",
    "                                            'B01001_039E', #Estimate!!Total:!!Female:!!45 to 49 years\n",
    "                                            'B11001_002E', #Family Households\n",
    "                                            'B11001_007E', #Non Family households\n",
    "                                            'B19001_013E', #Estimate!!Total:!!$75,000 to $99,999\n",
    "                                            'B19001_014E', #Estimate!!Total:!!$100,000 to $124,999\n",
    "                                            'B19001_015E', #Estimate!!Total:!!$125,000 to $149,999\n",
    "                                            'B19001_016E', #Estimate!!Total:!!$150,000 to $199,999\n",
    "                                            'B19122_001E', #Number of Earners in Family\n",
    "                                            'B01001_012E', #Estimate!!Total:!!Male:!!30 to 34 years\n",
    "                                            'B01001_013E', #Estimate!!Total:!!Male:!!35 to 39 years\n",
    "                                            'B01001_036E', #Estimate!!Total:!!Female:!!30 to 34 years\n",
    "                                            'B01001_037E', #Estimate!!Total:!!Female:!!35 to 39 years\n",
    "                                            'B01001_018E', #Estimate!!Total:!!Male:!!60 and 61 years\n",
    "                                            'B01001_019E', #Estimate!!Total:!!Male:!!62 to 64 years\n",
    "                                            'B01001_020E', #Estimate!!Total:!!Male:!!65 and 66 years\n",
    "                                            'B01001_021E', #Estimate!!Total:!!Male:!!67 to 69 years\n",
    "                                            'B01001_022E', #Estimate!!Total:!!Male:!!70 to 74 years\n",
    "                                            'B01001_023E', #Estimate!!Total:!!Male:!!75 to 79 years\n",
    "                                            'B01001_024E', #Estimate!!Total:!!Male:!!80 to 84 years\n",
    "                                            'B01001_025E', #Estimate!!Total:!!Male:!!85 years and over\n",
    "                                            'B01001_042E', #Estimate!!Total:!!Female:!!60 and 61 years\n",
    "                                            'B01001_043E', #Estimate!!Total:!!Female:!!62 to 64 years\n",
    "                                            'B01001_044E', #Estimate!!Total:!!Female:!!65 and 66 years\n",
    "                                            'B01001_045E', #Estimate!!Total:!!Female:!!67 to 69 years\n",
    "                                            'B01001_046E', #Estimate!!Total:!!Female:!!70 to 74 years\n",
    "                                            'B01001_047E', #Estimate!!Total:!!Female:!!75 to 79 years\n",
    "                                            'B01001_048E', #Estimate!!Total:!!Female:!!80 to 84 years\n",
    "                                            'B01001_049E', #Estimate!!Total:!!Female:!!85 years and over\n",
    "                                            'B12001_012E', #FemaleNeverMarried\n",
    "                                            'B12002_003E', #MaleNeverMarried\n",
    "                                            'B12001_013E', #FemaleMarried\n",
    "                                            'B12002_018E' #Male Married\n",
    "                                        ]).values\n",
    "    testDF.loc[i, 'Tract'] = y['TractNumber']\n",
    "    testDF.loc[i, 'County'] = y['CountyNumber']\n",
    "    \n",
    "    testDF.loc[i, 'TotalFemale40to49'] = AcsData[0,0] + AcsData[0,1]\n",
    "    testDF.loc[i, 'FamilyHouseholds'] = AcsData[0,2]\n",
    "    testDF.loc[i, 'NonFamilyHouseholds'] = AcsData[0,3]\n",
    "    testDF.loc[i, 'NumberOfHouseholdIncomeLessThan100000'] = AcsData[0,4]\n",
    "    testDF.loc[i, 'NumberOfHouseholdIncomeLessThan150000'] = AcsData[0,5] + AcsData[0,6]\n",
    "    testDF.loc[i, 'NumberOfHouseholdIncomeLessThan200000'] = AcsData[0,7]\n",
    "    testDF.loc[i, 'NumofEarnersInFamily'] = AcsData[0,8]\n",
    "    testDF.loc[i, 'Population30to39'] = AcsData[0,9] + AcsData[0,10] +  AcsData[0,11] + AcsData[0,12]\n",
    "    testDF.loc[i, 'PopulationAbove60'] = AcsData[0,13] + AcsData[0,14] +  AcsData[0,15] + AcsData[0,16] + AcsData[0,17] + AcsData[0,18] +  AcsData[0,19] + AcsData[0,20] +  AcsData[0,21] + AcsData[0,22] +  AcsData[0,23] + AcsData[0,24] +  AcsData[0,25] + AcsData[0,26] +  AcsData[0,27] + AcsData[0,28] \n",
    "    testDF.loc[i, 'Age15PopulationNeverMarried'] = AcsData[0,29] + AcsData[0,30]\n",
    "    testDF.loc[i, 'Age15PopulationMarried'] = AcsData[0,31] + AcsData[0,32]\n",
    "    \n",
    "    i += 1\n",
    "    \n",
    "    "
   ]
  },
  {
   "cell_type": "code",
   "execution_count": null,
   "metadata": {
    "id": "kjQxsi59V8ue"
   },
   "outputs": [],
   "source": [
    "testDF.to_excel('Census Data.xlsx')"
   ]
  }
 ],
 "metadata": {
  "colab": {
   "provenance": []
  },
  "kernelspec": {
   "display_name": "Python 3 (ipykernel)",
   "language": "python",
   "name": "python3"
  },
  "language_info": {
   "codemirror_mode": {
    "name": "ipython",
    "version": 3
   },
   "file_extension": ".py",
   "mimetype": "text/x-python",
   "name": "python",
   "nbconvert_exporter": "python",
   "pygments_lexer": "ipython3",
   "version": "3.9.12"
  },
  "toc": {
   "base_numbering": 1,
   "nav_menu": {},
   "number_sections": true,
   "sideBar": true,
   "skip_h1_title": false,
   "title_cell": "Table of Contents",
   "title_sidebar": "Contents",
   "toc_cell": false,
   "toc_position": {},
   "toc_section_display": true,
   "toc_window_display": false
  }
 },
 "nbformat": 4,
 "nbformat_minor": 1
}
