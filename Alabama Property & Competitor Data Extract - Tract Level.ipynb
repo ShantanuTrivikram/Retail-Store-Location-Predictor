{
 "cells": [
  {
   "cell_type": "code",
   "execution_count": null,
   "id": "a368c8c2",
   "metadata": {},
   "outputs": [],
   "source": [
    "#Imports\n",
    "import numpy as np\n",
    "import pandas as pd\n",
    "import matplotlib.pyplot as plt\n",
    "import seaborn as sns\n",
    "from sklearn.linear_model import LinearRegression\n",
    "import statsmodels.api as sm\n",
    "import statsmodels.formula.api as smf\n",
    "from geopy.geocoders import Nominatim\n",
    "from geopy import distance\n",
    "from geopy.distance import geodesic\n",
    "import census\n",
    "import pandas as pd\n",
    "import geopandas as gpd\n",
    "import censusdata\n",
    "import censusgeocode as cg\n",
    "import geopy\n",
    "from geopy.geocoders import Nominatim\n",
    "import numpy as np\n",
    "import plotly_express as px\n",
    "import matplotlib.pyplot as plt\n",
    "import requests"
   ]
  },
  {
   "cell_type": "code",
   "execution_count": null,
   "id": "68910494",
   "metadata": {},
   "outputs": [],
   "source": [
    "!pip install census\n",
    "!pip install censusdata\n",
    "!pip install censusgeocode\n",
    "!pip install geopy\n",
    "!pip install geopandas\n",
    "!pip install plotly_express"
   ]
  },
  {
   "cell_type": "code",
   "execution_count": null,
   "id": "a5ad9271",
   "metadata": {},
   "outputs": [],
   "source": [
    "propertyData = pd.read_excel('AlabamaProperty.xlsx')\n",
    "propDF = pd.DataFrame()\n",
    "j = 0\n",
    "for i in  list(range(0,len(propertyData))):\n",
    "    print(i)\n",
    "    try:\n",
    "        CensusGeoData1 = cg.coordinates(x=propertyData.PROPERTY_LONGITUDE[i], y= propertyData.PROPERTY_LATITUDE[i])\n",
    "        \n",
    "    except:\n",
    "        pass\n",
    "    \n",
    "    else:\n",
    "        propTract = CensusGeoData1 ['Census Tracts'][0]['TRACT']\n",
    "        propDF.loc[j, 'Tract']  = propTract\n",
    "        propDF.loc[j,'County'] = CensusGeoData1 ['Census Tracts'][0]['COUNTY']\n",
    "        propDF.loc[j,'Rent'] = propertyData.PROPERTY_CURRENT_RENT[i]\n",
    "        j = j + 1\n",
    "    \n",
    "propDF.head()        "
   ]
  },
  {
   "cell_type": "code",
   "execution_count": null,
   "id": "823c0c72",
   "metadata": {},
   "outputs": [],
   "source": [
    "propDF['AvgRent'] = propDF.groupby(['Tract','County'])['Rent'].transform('mean')\n",
    "propDF"
   ]
  },
  {
   "cell_type": "code",
   "execution_count": null,
   "id": "dbad5acd",
   "metadata": {
    "scrolled": true
   },
   "outputs": [],
   "source": [
    "x = propDF[['Tract','County','AvgRent']]\n",
    "x.drop_duplicates(subset=None, keep=\"first\", inplace=True)\n",
    "x.reset_index(inplace=True, drop=True)\n",
    "x"
   ]
  },
  {
   "cell_type": "code",
   "execution_count": null,
   "id": "8c3a7ab7",
   "metadata": {},
   "outputs": [],
   "source": [
    "x.to_excel('AlabamaPropertyTractAverageRent.xlsx')"
   ]
  },
  {
   "cell_type": "code",
   "execution_count": null,
   "id": "b2a32366",
   "metadata": {},
   "outputs": [],
   "source": [
    "compData = pd.read_excel('Alabama Competing Stores.xlsx')\n",
    "compDF = pd.DataFrame()\n",
    "k = 0\n",
    "for i in  list(range(0,len(compData))):\n",
    "    print(k)\n",
    "    try:\n",
    "        CensusGeoData2 = cg.coordinates(x=compData.lng[i], y= compData.lat[i])\n",
    "        compTract = CensusGeoData2 ['Census Tracts'][0]['TRACT']\n",
    "        compDF.loc[k, 'Tract']  = compTract\n",
    "        compDF.loc[k,'County'] = CensusGeoData2 ['Census Tracts'][0]['COUNTY']\n",
    "        compDF.loc[k,'Store'] = compData.Name[i]\n",
    "        compDF.loc[k,'TotalVists'] = compData.TotalVisits[i]\n",
    "    except:\n",
    "        continue\n",
    "    \n",
    "    k += 1\n",
    "compDF.head()        "
   ]
  },
  {
   "cell_type": "code",
   "execution_count": null,
   "id": "c0066441",
   "metadata": {},
   "outputs": [],
   "source": [
    "compDF['TotalNumOfCompetitors'] = compDF.groupby(['Tract','County'])['Store'].transform('count')\n",
    "compDF['TotalCompetitorVisits'] = compDF.groupby(['Tract','County'])['TotalVists'].transform('sum')\n",
    "compDF['NumOfKohl'] = compDF[compDF['Store'] == 'Kohls'].groupby(['Tract','County'])['Store'].transform('count')\n",
    "compDF.to_excel('AlabamaCompDF.xlsx')"
   ]
  }
 ],
 "metadata": {
  "kernelspec": {
   "display_name": "Python 3 (ipykernel)",
   "language": "python",
   "name": "python3"
  },
  "language_info": {
   "codemirror_mode": {
    "name": "ipython",
    "version": 3
   },
   "file_extension": ".py",
   "mimetype": "text/x-python",
   "name": "python",
   "nbconvert_exporter": "python",
   "pygments_lexer": "ipython3",
   "version": "3.9.12"
  },
  "toc": {
   "base_numbering": 1,
   "nav_menu": {},
   "number_sections": true,
   "sideBar": true,
   "skip_h1_title": false,
   "title_cell": "Table of Contents",
   "title_sidebar": "Contents",
   "toc_cell": false,
   "toc_position": {},
   "toc_section_display": true,
   "toc_window_display": false
  }
 },
 "nbformat": 4,
 "nbformat_minor": 5
}
